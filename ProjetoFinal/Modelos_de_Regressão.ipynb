{
  "nbformat": 4,
  "nbformat_minor": 0,
  "metadata": {
    "colab": {
      "name": "Modelos de Regressão.ipynb",
      "provenance": [],
      "collapsed_sections": [
        "CVBz6dsfaWzJ",
        "7Cy7A7FO09Px"
      ],
      "toc_visible": true
    },
    "kernelspec": {
      "name": "python3",
      "display_name": "Python 3"
    }
  },
  "cells": [
    {
      "cell_type": "markdown",
      "metadata": {
        "id": "RyAxTIDIXZq4"
      },
      "source": [
        "# **Modelos de Treinamento Supervisionado**"
      ]
    },
    {
      "cell_type": "markdown",
      "metadata": {
        "id": "I3AKjG48aHhI"
      },
      "source": [
        "# Machine Learning\n"
      ]
    },
    {
      "cell_type": "markdown",
      "metadata": {
        "id": "5_6byn6y6ldZ"
      },
      "source": [
        "## Support Vector Machine"
      ]
    },
    {
      "cell_type": "code",
      "metadata": {
        "id": "WGH03IFbrZP2",
        "colab": {
          "base_uri": "https://localhost:8080/"
        },
        "outputId": "3d385898-0d52-45da-cdfc-9ee43d19e8ee"
      },
      "source": [
        "#Monta o Kernel \n",
        "from google.colab import drive\n",
        "drive.mount('/content/drive')"
      ],
      "execution_count": 1,
      "outputs": [
        {
          "output_type": "stream",
          "text": [
            "Mounted at /content/drive\n"
          ],
          "name": "stdout"
        }
      ]
    },
    {
      "cell_type": "code",
      "metadata": {
        "id": "kW-bPQczFU5w"
      },
      "source": [
        "#Importa bibliotecas básicas\n",
        "import numpy as np\n",
        "import pandas as pd\n",
        "from sklearn.model_selection import train_test_split\n",
        "from sklearn import datasets\n",
        "from sklearn import svm\n",
        "import matplotlib as mpl\n",
        "import matplotlib.pyplot as plt\n",
        "import seaborn as sns\n",
        "import warnings; warnings.filterwarnings(action='once')"
      ],
      "execution_count": 2,
      "outputs": []
    },
    {
      "cell_type": "code",
      "metadata": {
        "id": "F6e9x2D8E5rz",
        "colab": {
          "resources": {
            "http://localhost:8080/nbextensions/google.colab/files.js": {
              "data": "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",
              "ok": true,
              "headers": [
                [
                  "content-type",
                  "application/javascript"
                ]
              ],
              "status": 200,
              "status_text": ""
            }
          },
          "base_uri": "https://localhost:8080/",
          "height": 70
        },
        "outputId": "84315850-9b57-46ca-9775-15f2ae8bf7aa"
      },
      "source": [
        "#Importa arquivo de dados\n",
        "from google.colab import files\n",
        "uploaded = files.upload()"
      ],
      "execution_count": 3,
      "outputs": [
        {
          "output_type": "display_data",
          "data": {
            "text/html": [
              "\n",
              "     <input type=\"file\" id=\"files-e3f3147a-a166-4aa4-a9db-41d80211840e\" name=\"files[]\" multiple disabled\n",
              "        style=\"border:none\" />\n",
              "     <output id=\"result-e3f3147a-a166-4aa4-a9db-41d80211840e\">\n",
              "      Upload widget is only available when the cell has been executed in the\n",
              "      current browser session. Please rerun this cell to enable.\n",
              "      </output>\n",
              "      <script src=\"/nbextensions/google.colab/files.js\"></script> "
            ],
            "text/plain": [
              "<IPython.core.display.HTML object>"
            ]
          },
          "metadata": {
            "tags": []
          }
        },
        {
          "output_type": "stream",
          "text": [
            "Saving DataETo.csv to DataETo.csv\n"
          ],
          "name": "stdout"
        }
      ]
    },
    {
      "cell_type": "code",
      "metadata": {
        "id": "zcvDmfd6FNpV"
      },
      "source": [
        "#Cria o objeto com os dados iportados\n",
        "data = pd.read_csv(\"/content/DataETo.csv\")"
      ],
      "execution_count": 4,
      "outputs": []
    },
    {
      "cell_type": "code",
      "metadata": {
        "id": "dDwMNzgFF1jA",
        "colab": {
          "base_uri": "https://localhost:8080/",
          "height": 191
        },
        "outputId": "0ba572ac-b73e-48f5-f55d-4a39cd2dcfa7"
      },
      "source": [
        "\n",
        "#Mostra as 5 primeiras linhas do objeto 'data'\n",
        "#DOY: Day of the Year; Rad: Radiação Solar (MJ/m²/dia); Vmed: Velocidade média do vento (m/s)\n",
        "#Tmed: Temperatura média do ar (°C); URmed: Umidade relativa média do ar (%); ETo: Evapotranspiração de Referência (mm/dia) \n",
        "data.head()"
      ],
      "execution_count": 5,
      "outputs": [
        {
          "output_type": "execute_result",
          "data": {
            "text/html": [
              "<div>\n",
              "<style scoped>\n",
              "    .dataframe tbody tr th:only-of-type {\n",
              "        vertical-align: middle;\n",
              "    }\n",
              "\n",
              "    .dataframe tbody tr th {\n",
              "        vertical-align: top;\n",
              "    }\n",
              "\n",
              "    .dataframe thead th {\n",
              "        text-align: right;\n",
              "    }\n",
              "</style>\n",
              "<table border=\"1\" class=\"dataframe\">\n",
              "  <thead>\n",
              "    <tr style=\"text-align: right;\">\n",
              "      <th></th>\n",
              "      <th>DOY</th>\n",
              "      <th>Rad</th>\n",
              "      <th>Vmed</th>\n",
              "      <th>Tmed</th>\n",
              "      <th>Urmed</th>\n",
              "      <th>Eto</th>\n",
              "    </tr>\n",
              "  </thead>\n",
              "  <tbody>\n",
              "    <tr>\n",
              "      <th>0</th>\n",
              "      <td>1</td>\n",
              "      <td>22.6</td>\n",
              "      <td>0.6</td>\n",
              "      <td>21.3</td>\n",
              "      <td>63.2</td>\n",
              "      <td>5.40</td>\n",
              "    </tr>\n",
              "    <tr>\n",
              "      <th>1</th>\n",
              "      <td>2</td>\n",
              "      <td>17.9</td>\n",
              "      <td>0.5</td>\n",
              "      <td>22.2</td>\n",
              "      <td>68.8</td>\n",
              "      <td>5.20</td>\n",
              "    </tr>\n",
              "    <tr>\n",
              "      <th>2</th>\n",
              "      <td>3</td>\n",
              "      <td>19.2</td>\n",
              "      <td>1.0</td>\n",
              "      <td>23.3</td>\n",
              "      <td>72.4</td>\n",
              "      <td>3.68</td>\n",
              "    </tr>\n",
              "    <tr>\n",
              "      <th>3</th>\n",
              "      <td>4</td>\n",
              "      <td>13.2</td>\n",
              "      <td>1.2</td>\n",
              "      <td>21.6</td>\n",
              "      <td>80.6</td>\n",
              "      <td>2.64</td>\n",
              "    </tr>\n",
              "    <tr>\n",
              "      <th>4</th>\n",
              "      <td>5</td>\n",
              "      <td>18.3</td>\n",
              "      <td>0.8</td>\n",
              "      <td>22.0</td>\n",
              "      <td>77.4</td>\n",
              "      <td>3.97</td>\n",
              "    </tr>\n",
              "  </tbody>\n",
              "</table>\n",
              "</div>"
            ],
            "text/plain": [
              "   DOY   Rad  Vmed  Tmed  Urmed   Eto\n",
              "0    1  22.6   0.6  21.3   63.2  5.40\n",
              "1    2  17.9   0.5  22.2   68.8  5.20\n",
              "2    3  19.2   1.0  23.3   72.4  3.68\n",
              "3    4  13.2   1.2  21.6   80.6  2.64\n",
              "4    5  18.3   0.8  22.0   77.4  3.97"
            ]
          },
          "metadata": {
            "tags": []
          },
          "execution_count": 5
        }
      ]
    },
    {
      "cell_type": "code",
      "metadata": {
        "id": "u7gRB6jzvHBM"
      },
      "source": [
        "#Plota gráficos de dispersão entre as variáveis e gráficos de distribuição dos dados\n",
        "sns.pairplot(data, kind=\"reg\");"
      ],
      "execution_count": null,
      "outputs": []
    },
    {
      "cell_type": "code",
      "metadata": {
        "id": "5k4xwJrQF5bR"
      },
      "source": [
        "#Exclui a(s) variável(is) alvo do modelo\n",
        "X = data.drop(['Eto'], axis=1)"
      ],
      "execution_count": 9,
      "outputs": []
    },
    {
      "cell_type": "code",
      "metadata": {
        "id": "M9M-lpuYGgeO",
        "colab": {
          "base_uri": "https://localhost:8080/",
          "height": 191
        },
        "outputId": "785102f0-6f6d-4369-ce23-410ac68fa44a"
      },
      "source": [
        "#Dataset sem a variável \"alvo\"\n",
        "X.head()"
      ],
      "execution_count": 10,
      "outputs": [
        {
          "output_type": "execute_result",
          "data": {
            "text/html": [
              "<div>\n",
              "<style scoped>\n",
              "    .dataframe tbody tr th:only-of-type {\n",
              "        vertical-align: middle;\n",
              "    }\n",
              "\n",
              "    .dataframe tbody tr th {\n",
              "        vertical-align: top;\n",
              "    }\n",
              "\n",
              "    .dataframe thead th {\n",
              "        text-align: right;\n",
              "    }\n",
              "</style>\n",
              "<table border=\"1\" class=\"dataframe\">\n",
              "  <thead>\n",
              "    <tr style=\"text-align: right;\">\n",
              "      <th></th>\n",
              "      <th>DOY</th>\n",
              "      <th>Rad</th>\n",
              "      <th>Vmed</th>\n",
              "      <th>Tmed</th>\n",
              "      <th>Urmed</th>\n",
              "    </tr>\n",
              "  </thead>\n",
              "  <tbody>\n",
              "    <tr>\n",
              "      <th>0</th>\n",
              "      <td>1</td>\n",
              "      <td>22.6</td>\n",
              "      <td>0.6</td>\n",
              "      <td>21.3</td>\n",
              "      <td>63.2</td>\n",
              "    </tr>\n",
              "    <tr>\n",
              "      <th>1</th>\n",
              "      <td>2</td>\n",
              "      <td>17.9</td>\n",
              "      <td>0.5</td>\n",
              "      <td>22.2</td>\n",
              "      <td>68.8</td>\n",
              "    </tr>\n",
              "    <tr>\n",
              "      <th>2</th>\n",
              "      <td>3</td>\n",
              "      <td>19.2</td>\n",
              "      <td>1.0</td>\n",
              "      <td>23.3</td>\n",
              "      <td>72.4</td>\n",
              "    </tr>\n",
              "    <tr>\n",
              "      <th>3</th>\n",
              "      <td>4</td>\n",
              "      <td>13.2</td>\n",
              "      <td>1.2</td>\n",
              "      <td>21.6</td>\n",
              "      <td>80.6</td>\n",
              "    </tr>\n",
              "    <tr>\n",
              "      <th>4</th>\n",
              "      <td>5</td>\n",
              "      <td>18.3</td>\n",
              "      <td>0.8</td>\n",
              "      <td>22.0</td>\n",
              "      <td>77.4</td>\n",
              "    </tr>\n",
              "  </tbody>\n",
              "</table>\n",
              "</div>"
            ],
            "text/plain": [
              "   DOY   Rad  Vmed  Tmed  Urmed\n",
              "0    1  22.6   0.6  21.3   63.2\n",
              "1    2  17.9   0.5  22.2   68.8\n",
              "2    3  19.2   1.0  23.3   72.4\n",
              "3    4  13.2   1.2  21.6   80.6\n",
              "4    5  18.3   0.8  22.0   77.4"
            ]
          },
          "metadata": {
            "tags": []
          },
          "execution_count": 10
        }
      ]
    },
    {
      "cell_type": "code",
      "metadata": {
        "id": "kta74Es2jrxn"
      },
      "source": [
        "y = data['Eto'] #atribui a variável alvo\n"
      ],
      "execution_count": 11,
      "outputs": []
    },
    {
      "cell_type": "code",
      "metadata": {
        "id": "SpI5mLWoGrrQ",
        "colab": {
          "base_uri": "https://localhost:8080/"
        },
        "outputId": "750cb114-b2c7-4b8b-8b44-229af274a023"
      },
      "source": [
        "y.head()"
      ],
      "execution_count": 12,
      "outputs": [
        {
          "output_type": "execute_result",
          "data": {
            "text/plain": [
              "0    5.40\n",
              "1    5.20\n",
              "2    3.68\n",
              "3    2.64\n",
              "4    3.97\n",
              "Name: Eto, dtype: float64"
            ]
          },
          "metadata": {
            "tags": []
          },
          "execution_count": 12
        }
      ]
    },
    {
      "cell_type": "code",
      "metadata": {
        "id": "upM7TH93j2d0",
        "colab": {
          "base_uri": "https://localhost:8080/"
        },
        "outputId": "5f21eb93-8752-46ea-ffba-bacc35d68745"
      },
      "source": [
        "X.shape, y.shape #Mostra quantidade de linhas e colunas das variáveis - Dados referentes a 1 ano de observações diárias"
      ],
      "execution_count": 13,
      "outputs": [
        {
          "output_type": "execute_result",
          "data": {
            "text/plain": [
              "((365, 5), (365,))"
            ]
          },
          "metadata": {
            "tags": []
          },
          "execution_count": 13
        }
      ]
    },
    {
      "cell_type": "code",
      "metadata": {
        "id": "pn100zXSG3My"
      },
      "source": [
        "#Importa a biblioteca para divisão dos dados em treinamento e teste\n",
        "from sklearn.model_selection import train_test_split"
      ],
      "execution_count": 14,
      "outputs": []
    },
    {
      "cell_type": "code",
      "metadata": {
        "id": "70KyVzDpj5q7"
      },
      "source": [
        "#Dividindo os dados em conjunto de treinamento e conjunto de teste (30% dos dados para teste)\n",
        "X_train, X_test, y_train, y_test = train_test_split(X, y, test_size = 0.3, random_state=42)"
      ],
      "execution_count": 15,
      "outputs": []
    },
    {
      "cell_type": "code",
      "metadata": {
        "id": "KNWSe5wop7X0",
        "colab": {
          "base_uri": "https://localhost:8080/"
        },
        "outputId": "a7c7fd97-2476-406c-934f-e9561950761f"
      },
      "source": [
        "X_train.shape, y_train.shape #Tamanho do conjunto de treinamento"
      ],
      "execution_count": 16,
      "outputs": [
        {
          "output_type": "execute_result",
          "data": {
            "text/plain": [
              "((255, 5), (255,))"
            ]
          },
          "metadata": {
            "tags": []
          },
          "execution_count": 16
        }
      ]
    },
    {
      "cell_type": "code",
      "metadata": {
        "id": "ufVdTig0Sxg8",
        "colab": {
          "base_uri": "https://localhost:8080/"
        },
        "outputId": "3dab011a-4169-44c9-c19d-80e3def2aacd"
      },
      "source": [
        "X_test.shape, y_test.shape #Tamanho do conjunto de teste"
      ],
      "execution_count": 17,
      "outputs": [
        {
          "output_type": "execute_result",
          "data": {
            "text/plain": [
              "((110, 5), (110,))"
            ]
          },
          "metadata": {
            "tags": []
          },
          "execution_count": 17
        }
      ]
    },
    {
      "cell_type": "code",
      "metadata": {
        "id": "A-y5GsENbzhr"
      },
      "source": [
        "y_train_pred = ModelSV.predict(X_train)# Aplica o modelo SV no conjunto de treinamento"
      ],
      "execution_count": 21,
      "outputs": []
    },
    {
      "cell_type": "code",
      "metadata": {
        "id": "zb7C3yB-RWe8"
      },
      "source": [
        "y_pred = ModelSV.predict(X_test) #Aplica o modelo no conjunto de teste"
      ],
      "execution_count": 19,
      "outputs": []
    },
    {
      "cell_type": "code",
      "metadata": {
        "id": "fLjdcg0JcgUl",
        "colab": {
          "base_uri": "https://localhost:8080/",
          "height": 278
        },
        "outputId": "bb716f77-d5a2-4631-ae3c-7df51aaedc33"
      },
      "source": [
        "#Gráficos de Resíduos do conjunto de treinamento\n",
        "plt.scatter(y_train_pred,y_train_pred-y_train,c='steelblue',edgecolor='white',\n",
        "            marker='o',s=35,alpha=0.9,label='Conjunto de Treinamento')\n",
        "plt.xlabel('Valores Preditos')\n",
        "plt.ylabel('Resíduos')\n",
        "plt.legend(loc='upper left')\n",
        "plt.hlines(y=0,xmin=0,xmax=6,lw=2,color='black')\n",
        "plt.xlim([0,6])\n",
        "plt.show()"
      ],
      "execution_count": 22,
      "outputs": [
        {
          "output_type": "display_data",
          "data": {
            "image/png": "[encoded data removed]",
            "text/plain": [
              "<Figure size 432x288 with 1 Axes>"
            ]
          },
          "metadata": {
            "tags": []
          }
        }
      ]
    },
    {
      "cell_type": "markdown",
      "metadata": {
        "id": "eY3wZZpU6eVZ"
      },
      "source": [
        "**Análise de resíduos (Métricas de Erro)**"
      ]
    },
    {
      "cell_type": "markdown",
      "metadata": {
        "id": "0oFFD7u5Cjra"
      },
      "source": [
        "**Aplicação das métricas de erro RMSE, MAE e MSE**"
      ]
    },
    {
      "cell_type": "code",
      "metadata": {
        "id": "hq0kc_SRzyyi"
      },
      "source": [
        "from sklearn.metrics import mean_squared_error #importa métrica de erro MSE\n",
        "from sklearn.metrics import mean_absolute_error"
      ],
      "execution_count": 47,
      "outputs": []
    },
    {
      "cell_type": "code",
      "metadata": {
        "id": "tDjRbAH5zrNj"
      },
      "source": [
        "rmse = (np.sqrt(mean_squared_error(y_test, y_pred))) #aplica o RMSE no conjunto de teste"
      ],
      "execution_count": 48,
      "outputs": []
    },
    {
      "cell_type": "code",
      "metadata": {
        "id": "xxb7N90b0F1p",
        "colab": {
          "base_uri": "https://localhost:8080/"
        },
        "outputId": "324b7cea-db9c-4483-d2f0-5470d9e817af"
      },
      "source": [
        "print('\\nRMSE é: {} '.format(rmse)) #Mostra o valor do RMSE"
      ],
      "execution_count": 49,
      "outputs": [
        {
          "output_type": "stream",
          "text": [
            "\n",
            "RMSE é: 0.3338344267595366 \n"
          ],
          "name": "stdout"
        }
      ]
    },
    {
      "cell_type": "code",
      "metadata": {
        "id": "z7D9m4Xwknyh"
      },
      "source": [
        "mae = (mean_absolute_error(y_test, y_pred)) #aplica o MAE no conjunto de teste"
      ],
      "execution_count": 50,
      "outputs": []
    },
    {
      "cell_type": "code",
      "metadata": {
        "id": "sqccfnggkz5g",
        "colab": {
          "base_uri": "https://localhost:8080/"
        },
        "outputId": "c8b941af-d9b6-4edc-8bb0-5c856fc4eb8b"
      },
      "source": [
        "print('\\nMAE é: {} '.format(mae)) #Mostra o valor do MAE"
      ],
      "execution_count": 51,
      "outputs": [
        {
          "output_type": "stream",
          "text": [
            "\n",
            "MAE é: 0.23633599507098751 \n"
          ],
          "name": "stdout"
        }
      ]
    },
    {
      "cell_type": "code",
      "metadata": {
        "id": "t2Z1pjbvUuJD"
      },
      "source": [
        "from sklearn.metrics import explained_variance_score #Importa o teste Variance Score"
      ],
      "execution_count": 52,
      "outputs": []
    },
    {
      "cell_type": "code",
      "metadata": {
        "id": "6C5SsUFpUw5k",
        "colab": {
          "base_uri": "https://localhost:8080/"
        },
        "outputId": "2eba4bae-bb23-4d9f-ed91-0bd60245c432"
      },
      "source": [
        " explained_variance_score(y_test, y_pred)#Teste Variance Score no conjunto de teste"
      ],
      "execution_count": 53,
      "outputs": [
        {
          "output_type": "execute_result",
          "data": {
            "text/plain": [
              "0.821491751752335"
            ]
          },
          "metadata": {
            "tags": []
          },
          "execution_count": 53
        }
      ]
    },
    {
      "cell_type": "code",
      "metadata": {
        "id": "fY0iqBpCVmpM"
      },
      "source": [
        "mse = (mean_squared_error(y_test, y_pred)) #Aplica o MSE no conjunto de teste"
      ],
      "execution_count": 54,
      "outputs": []
    },
    {
      "cell_type": "code",
      "metadata": {
        "id": "UDhkrpYZVuU5",
        "colab": {
          "base_uri": "https://localhost:8080/"
        },
        "outputId": "c15fbf31-9ba4-4905-a675-29f0b1f9bfdc"
      },
      "source": [
        "print('\\nMSE é: {} '.format(mse))"
      ],
      "execution_count": 55,
      "outputs": [
        {
          "output_type": "stream",
          "text": [
            "\n",
            "MSE é: 0.11144542448986842 \n"
          ],
          "name": "stdout"
        }
      ]
    },
    {
      "cell_type": "code",
      "metadata": {
        "id": "9pUIhv1aMltR"
      },
      "source": [
        "SV_results=pd.DataFrame() #Cria dataframe vazio para armazenar os resultados"
      ],
      "execution_count": 56,
      "outputs": []
    },
    {
      "cell_type": "code",
      "metadata": {
        "id": "PXcDXG96M5UP"
      },
      "source": [
        "SV_results['valor_observado'] = y_test #Atribui os valores observados do conj. de teste"
      ],
      "execution_count": 57,
      "outputs": []
    },
    {
      "cell_type": "code",
      "metadata": {
        "id": "1UyGGcC9NAcJ"
      },
      "source": [
        "SV_results['valor_predito_SV'] = y_pred #Atribui os valores preditos no conjunto de teste"
      ],
      "execution_count": 58,
      "outputs": []
    },
    {
      "cell_type": "code",
      "metadata": {
        "id": "_-isO_-tKvH2"
      },
      "source": [
        "SV_results.to_csv('/content/ETOpred.csv',header=True) #Exporta os resultados para .CSV"
      ],
      "execution_count": 59,
      "outputs": []
    },
    {
      "cell_type": "code",
      "metadata": {
        "id": "jW2d6pNuYuOy",
        "colab": {
          "base_uri": "https://localhost:8080/",
          "height": 191
        },
        "outputId": "5d08ea5c-554d-40ea-eb3b-81a6f0363f42"
      },
      "source": [
        "SV_results.head()"
      ],
      "execution_count": 60,
      "outputs": [
        {
          "output_type": "execute_result",
          "data": {
            "text/html": [
              "<div>\n",
              "<style scoped>\n",
              "    .dataframe tbody tr th:only-of-type {\n",
              "        vertical-align: middle;\n",
              "    }\n",
              "\n",
              "    .dataframe tbody tr th {\n",
              "        vertical-align: top;\n",
              "    }\n",
              "\n",
              "    .dataframe thead th {\n",
              "        text-align: right;\n",
              "    }\n",
              "</style>\n",
              "<table border=\"1\" class=\"dataframe\">\n",
              "  <thead>\n",
              "    <tr style=\"text-align: right;\">\n",
              "      <th></th>\n",
              "      <th>valor_observado</th>\n",
              "      <th>valor_predito_SV</th>\n",
              "    </tr>\n",
              "  </thead>\n",
              "  <tbody>\n",
              "    <tr>\n",
              "      <th>193</th>\n",
              "      <td>2.35</td>\n",
              "      <td>2.585974</td>\n",
              "    </tr>\n",
              "    <tr>\n",
              "      <th>33</th>\n",
              "      <td>3.10</td>\n",
              "      <td>3.226239</td>\n",
              "    </tr>\n",
              "    <tr>\n",
              "      <th>15</th>\n",
              "      <td>2.59</td>\n",
              "      <td>2.427985</td>\n",
              "    </tr>\n",
              "    <tr>\n",
              "      <th>309</th>\n",
              "      <td>4.61</td>\n",
              "      <td>4.573269</td>\n",
              "    </tr>\n",
              "    <tr>\n",
              "      <th>57</th>\n",
              "      <td>3.10</td>\n",
              "      <td>3.115451</td>\n",
              "    </tr>\n",
              "  </tbody>\n",
              "</table>\n",
              "</div>"
            ],
            "text/plain": [
              "     valor_observado  valor_predito_SV\n",
              "193             2.35          2.585974\n",
              "33              3.10          3.226239\n",
              "15              2.59          2.427985\n",
              "309             4.61          4.573269\n",
              "57              3.10          3.115451"
            ]
          },
          "metadata": {
            "tags": []
          },
          "execution_count": 60
        }
      ]
    },
    {
      "cell_type": "code",
      "metadata": {
        "colab": {
          "base_uri": "https://localhost:8080/",
          "height": 383
        },
        "id": "lKAolRgkD5iV",
        "outputId": "19570c3f-a808-4e01-8a00-d61f2b206b1b"
      },
      "source": [
        "#Gráfico de Valores Preditos vs Valores Observados\n",
        "%matplotlib inline\n",
        "sns.lmplot(x=\"valor_predito_SV\", y=\"valor_observado\", palette=\"Pastel1\", data=SV_results);"
      ],
      "execution_count": 63,
      "outputs": [
        {
          "output_type": "display_data",
          "data": {
            "image/png": "[encoded data removed]",
            "text/plain": [
              "<Figure size 360x360 with 1 Axes>"
            ]
          },
          "metadata": {
            "tags": [],
            "needs_background": "light"
          }
        }
      ]
    },
    {
      "cell_type": "markdown",
      "metadata": {
        "id": "CVBz6dsfaWzJ"
      },
      "source": [
        "## Árvore de decisão"
      ]
    },
    {
      "cell_type": "code",
      "metadata": {
        "id": "xLJXGFYEjx0d",
        "colab": {
          "base_uri": "https://localhost:8080/"
        },
        "outputId": "dc413c03-8d21-4ce2-f371-915bb0b56dcc"
      },
      "source": [
        "from sklearn.tree import DecisionTreeRegressor"
      ],
      "execution_count": 64,
      "outputs": [
        {
          "output_type": "stream",
          "text": [
            "/usr/lib/python3.7/importlib/_bootstrap.py:219: RuntimeWarning: numpy.ufunc size changed, may indicate binary incompatibility. Expected 192 from C header, got 216 from PyObject\n",
            "  return f(*args, **kwds)\n",
            "/usr/lib/python3.7/importlib/_bootstrap.py:219: RuntimeWarning: numpy.ufunc size changed, may indicate binary incompatibility. Expected 192 from C header, got 216 from PyObject\n",
            "  return f(*args, **kwds)\n"
          ],
          "name": "stderr"
        }
      ]
    },
    {
      "cell_type": "code",
      "metadata": {
        "id": "vx9xpsYww5-x"
      },
      "source": [
        "regressor = DecisionTreeRegressor()"
      ],
      "execution_count": 65,
      "outputs": []
    },
    {
      "cell_type": "code",
      "metadata": {
        "id": "od7UHr0nK2r_",
        "colab": {
          "base_uri": "https://localhost:8080/",
          "height": 191
        },
        "outputId": "c31e4c46-b6bd-46a9-d030-b44032abe34c"
      },
      "source": [
        "data.head()"
      ],
      "execution_count": 66,
      "outputs": [
        {
          "output_type": "execute_result",
          "data": {
            "text/html": [
              "<div>\n",
              "<style scoped>\n",
              "    .dataframe tbody tr th:only-of-type {\n",
              "        vertical-align: middle;\n",
              "    }\n",
              "\n",
              "    .dataframe tbody tr th {\n",
              "        vertical-align: top;\n",
              "    }\n",
              "\n",
              "    .dataframe thead th {\n",
              "        text-align: right;\n",
              "    }\n",
              "</style>\n",
              "<table border=\"1\" class=\"dataframe\">\n",
              "  <thead>\n",
              "    <tr style=\"text-align: right;\">\n",
              "      <th></th>\n",
              "      <th>DOY</th>\n",
              "      <th>Rad</th>\n",
              "      <th>Vmed</th>\n",
              "      <th>Tmed</th>\n",
              "      <th>Urmed</th>\n",
              "      <th>Eto</th>\n",
              "    </tr>\n",
              "  </thead>\n",
              "  <tbody>\n",
              "    <tr>\n",
              "      <th>0</th>\n",
              "      <td>1</td>\n",
              "      <td>22.6</td>\n",
              "      <td>0.6</td>\n",
              "      <td>21.3</td>\n",
              "      <td>63.2</td>\n",
              "      <td>5.40</td>\n",
              "    </tr>\n",
              "    <tr>\n",
              "      <th>1</th>\n",
              "      <td>2</td>\n",
              "      <td>17.9</td>\n",
              "      <td>0.5</td>\n",
              "      <td>22.2</td>\n",
              "      <td>68.8</td>\n",
              "      <td>5.20</td>\n",
              "    </tr>\n",
              "    <tr>\n",
              "      <th>2</th>\n",
              "      <td>3</td>\n",
              "      <td>19.2</td>\n",
              "      <td>1.0</td>\n",
              "      <td>23.3</td>\n",
              "      <td>72.4</td>\n",
              "      <td>3.68</td>\n",
              "    </tr>\n",
              "    <tr>\n",
              "      <th>3</th>\n",
              "      <td>4</td>\n",
              "      <td>13.2</td>\n",
              "      <td>1.2</td>\n",
              "      <td>21.6</td>\n",
              "      <td>80.6</td>\n",
              "      <td>2.64</td>\n",
              "    </tr>\n",
              "    <tr>\n",
              "      <th>4</th>\n",
              "      <td>5</td>\n",
              "      <td>18.3</td>\n",
              "      <td>0.8</td>\n",
              "      <td>22.0</td>\n",
              "      <td>77.4</td>\n",
              "      <td>3.97</td>\n",
              "    </tr>\n",
              "  </tbody>\n",
              "</table>\n",
              "</div>"
            ],
            "text/plain": [
              "   DOY   Rad  Vmed  Tmed  Urmed   Eto\n",
              "0    1  22.6   0.6  21.3   63.2  5.40\n",
              "1    2  17.9   0.5  22.2   68.8  5.20\n",
              "2    3  19.2   1.0  23.3   72.4  3.68\n",
              "3    4  13.2   1.2  21.6   80.6  2.64\n",
              "4    5  18.3   0.8  22.0   77.4  3.97"
            ]
          },
          "metadata": {
            "tags": []
          },
          "execution_count": 66
        }
      ]
    },
    {
      "cell_type": "code",
      "metadata": {
        "id": "DV0be1P-lOIU"
      },
      "source": [
        "X = data.drop(['Eto'], axis=1)"
      ],
      "execution_count": 68,
      "outputs": []
    },
    {
      "cell_type": "code",
      "metadata": {
        "id": "FuNm9lxElfzG",
        "colab": {
          "base_uri": "https://localhost:8080/",
          "height": 191
        },
        "outputId": "ed2bb31a-212a-4706-f6c6-ad9a15995d1c"
      },
      "source": [
        "X.head()"
      ],
      "execution_count": 69,
      "outputs": [
        {
          "output_type": "execute_result",
          "data": {
            "text/html": [
              "<div>\n",
              "<style scoped>\n",
              "    .dataframe tbody tr th:only-of-type {\n",
              "        vertical-align: middle;\n",
              "    }\n",
              "\n",
              "    .dataframe tbody tr th {\n",
              "        vertical-align: top;\n",
              "    }\n",
              "\n",
              "    .dataframe thead th {\n",
              "        text-align: right;\n",
              "    }\n",
              "</style>\n",
              "<table border=\"1\" class=\"dataframe\">\n",
              "  <thead>\n",
              "    <tr style=\"text-align: right;\">\n",
              "      <th></th>\n",
              "      <th>DOY</th>\n",
              "      <th>Rad</th>\n",
              "      <th>Vmed</th>\n",
              "      <th>Tmed</th>\n",
              "      <th>Urmed</th>\n",
              "    </tr>\n",
              "  </thead>\n",
              "  <tbody>\n",
              "    <tr>\n",
              "      <th>0</th>\n",
              "      <td>1</td>\n",
              "      <td>22.6</td>\n",
              "      <td>0.6</td>\n",
              "      <td>21.3</td>\n",
              "      <td>63.2</td>\n",
              "    </tr>\n",
              "    <tr>\n",
              "      <th>1</th>\n",
              "      <td>2</td>\n",
              "      <td>17.9</td>\n",
              "      <td>0.5</td>\n",
              "      <td>22.2</td>\n",
              "      <td>68.8</td>\n",
              "    </tr>\n",
              "    <tr>\n",
              "      <th>2</th>\n",
              "      <td>3</td>\n",
              "      <td>19.2</td>\n",
              "      <td>1.0</td>\n",
              "      <td>23.3</td>\n",
              "      <td>72.4</td>\n",
              "    </tr>\n",
              "    <tr>\n",
              "      <th>3</th>\n",
              "      <td>4</td>\n",
              "      <td>13.2</td>\n",
              "      <td>1.2</td>\n",
              "      <td>21.6</td>\n",
              "      <td>80.6</td>\n",
              "    </tr>\n",
              "    <tr>\n",
              "      <th>4</th>\n",
              "      <td>5</td>\n",
              "      <td>18.3</td>\n",
              "      <td>0.8</td>\n",
              "      <td>22.0</td>\n",
              "      <td>77.4</td>\n",
              "    </tr>\n",
              "  </tbody>\n",
              "</table>\n",
              "</div>"
            ],
            "text/plain": [
              "   DOY   Rad  Vmed  Tmed  Urmed\n",
              "0    1  22.6   0.6  21.3   63.2\n",
              "1    2  17.9   0.5  22.2   68.8\n",
              "2    3  19.2   1.0  23.3   72.4\n",
              "3    4  13.2   1.2  21.6   80.6\n",
              "4    5  18.3   0.8  22.0   77.4"
            ]
          },
          "metadata": {
            "tags": []
          },
          "execution_count": 69
        }
      ]
    },
    {
      "cell_type": "code",
      "metadata": {
        "id": "EqW2scAylUDL"
      },
      "source": [
        "y = data['Eto']"
      ],
      "execution_count": 70,
      "outputs": []
    },
    {
      "cell_type": "code",
      "metadata": {
        "id": "r7WSUcsLlhLZ",
        "colab": {
          "base_uri": "https://localhost:8080/"
        },
        "outputId": "51b7a741-63a0-4f26-e37f-59951cc7f9c0"
      },
      "source": [
        "y.head()"
      ],
      "execution_count": 71,
      "outputs": [
        {
          "output_type": "execute_result",
          "data": {
            "text/plain": [
              "0    5.40\n",
              "1    5.20\n",
              "2    3.68\n",
              "3    2.64\n",
              "4    3.97\n",
              "Name: Eto, dtype: float64"
            ]
          },
          "metadata": {
            "tags": []
          },
          "execution_count": 71
        }
      ]
    },
    {
      "cell_type": "code",
      "metadata": {
        "id": "0gMBkePZlaU9"
      },
      "source": [
        "X_train, X_test, y_train, y_test = train_test_split(X, y, test_size = 0.3, random_state=5)"
      ],
      "execution_count": 72,
      "outputs": []
    },
    {
      "cell_type": "code",
      "metadata": {
        "id": "aVVqCk5Blona",
        "colab": {
          "base_uri": "https://localhost:8080/"
        },
        "outputId": "439946bf-157f-4acc-f36e-17e6f9fe0bb4"
      },
      "source": [
        "X_train.shape, y_train.shape"
      ],
      "execution_count": 73,
      "outputs": [
        {
          "output_type": "execute_result",
          "data": {
            "text/plain": [
              "((255, 5), (255,))"
            ]
          },
          "metadata": {
            "tags": []
          },
          "execution_count": 73
        }
      ]
    },
    {
      "cell_type": "code",
      "metadata": {
        "id": "MqHxpiYvlsTf",
        "colab": {
          "base_uri": "https://localhost:8080/"
        },
        "outputId": "d5f90601-a6ae-451e-a58c-5dc9dfdce28c"
      },
      "source": [
        "X_test.shape, y_test.shape "
      ],
      "execution_count": 74,
      "outputs": [
        {
          "output_type": "execute_result",
          "data": {
            "text/plain": [
              "((110, 5), (110,))"
            ]
          },
          "metadata": {
            "tags": []
          },
          "execution_count": 74
        }
      ]
    },
    {
      "cell_type": "code",
      "metadata": {
        "id": "TZAnRZU4wxXT"
      },
      "source": [
        "ModelDT=regressor.fit(X_train, y_train)"
      ],
      "execution_count": 75,
      "outputs": []
    },
    {
      "cell_type": "code",
      "metadata": {
        "id": "wfWScIl0w1ER"
      },
      "source": [
        "y_pred = ModelDT.predict(X_test)"
      ],
      "execution_count": 76,
      "outputs": []
    },
    {
      "cell_type": "code",
      "metadata": {
        "id": "PKLKglMS0Jgx"
      },
      "source": [
        "rmse = (np.sqrt(mean_squared_error(y_test, y_pred))) #aplica o RMSE no conjunto de teste"
      ],
      "execution_count": 77,
      "outputs": []
    },
    {
      "cell_type": "code",
      "metadata": {
        "id": "kD-Vy_qW0N9J",
        "colab": {
          "base_uri": "https://localhost:8080/"
        },
        "outputId": "e2306e9b-f3b7-4ae4-a04b-39640c9131c2"
      },
      "source": [
        "print('\\nRMSE é: {} '.format(rmse)) #Mostra o valor do RMSE"
      ],
      "execution_count": 78,
      "outputs": [
        {
          "output_type": "stream",
          "text": [
            "\n",
            "RMSE é: 0.4169881184267616 \n"
          ],
          "name": "stdout"
        }
      ]
    },
    {
      "cell_type": "code",
      "metadata": {
        "id": "uMK26CHE0Qpd"
      },
      "source": [
        "mae = (mean_absolute_error(y_test, y_pred)) #aplica o MAE no conjunto de teste"
      ],
      "execution_count": 79,
      "outputs": []
    },
    {
      "cell_type": "code",
      "metadata": {
        "id": "tLfVnxyG0S8F",
        "colab": {
          "base_uri": "https://localhost:8080/"
        },
        "outputId": "69e180d6-e971-4a5b-e3c4-ad2b53731340"
      },
      "source": [
        "print('\\nMAE é: {} '.format(mae)) #Mostra o valor do MAE"
      ],
      "execution_count": 80,
      "outputs": [
        {
          "output_type": "stream",
          "text": [
            "\n",
            "MAE é: 0.32190909090909087 \n"
          ],
          "name": "stdout"
        }
      ]
    },
    {
      "cell_type": "code",
      "metadata": {
        "id": "Mhuvj1lOo3TY"
      },
      "source": [
        "mse = (mean_squared_error(y_test, y_pred))"
      ],
      "execution_count": 81,
      "outputs": []
    },
    {
      "cell_type": "code",
      "metadata": {
        "id": "IFOl79kupDts",
        "colab": {
          "base_uri": "https://localhost:8080/"
        },
        "outputId": "29c2754c-6152-4974-e283-0a2b8f6756a2"
      },
      "source": [
        "print('\\nMSE é: {} '.format(mse))"
      ],
      "execution_count": 82,
      "outputs": [
        {
          "output_type": "stream",
          "text": [
            "\n",
            "MSE é: 0.17387909090909093 \n"
          ],
          "name": "stdout"
        }
      ]
    },
    {
      "cell_type": "code",
      "metadata": {
        "id": "1xbY2jQvppT6",
        "colab": {
          "base_uri": "https://localhost:8080/"
        },
        "outputId": "174ea21a-df29-417c-f1af-42594a03304e"
      },
      "source": [
        "explained_variance_score(y_test, y_pred)"
      ],
      "execution_count": 83,
      "outputs": [
        {
          "output_type": "execute_result",
          "data": {
            "text/plain": [
              "0.7349553611133292"
            ]
          },
          "metadata": {
            "tags": []
          },
          "execution_count": 83
        }
      ]
    },
    {
      "cell_type": "code",
      "metadata": {
        "id": "bMKZwYvg0cap"
      },
      "source": [
        "DT_results=pd.DataFrame()"
      ],
      "execution_count": 84,
      "outputs": []
    },
    {
      "cell_type": "code",
      "metadata": {
        "id": "abjsnmb_xA7p"
      },
      "source": [
        "DT_results['valor_predito_arvore'] = y_pred"
      ],
      "execution_count": 85,
      "outputs": []
    },
    {
      "cell_type": "code",
      "metadata": {
        "id": "smJfH-ZayJkg"
      },
      "source": [
        "DT_results['valor_observado'] = y_test.values"
      ],
      "execution_count": 86,
      "outputs": []
    },
    {
      "cell_type": "code",
      "metadata": {
        "id": "9nxHuia_xG5l"
      },
      "source": [
        "DT_results.to_csv('/content/DTpred.csv',header=True)"
      ],
      "execution_count": 87,
      "outputs": []
    },
    {
      "cell_type": "code",
      "metadata": {
        "colab": {
          "base_uri": "https://localhost:8080/",
          "height": 191
        },
        "id": "XMUiCRSsGC3r",
        "outputId": "5779547a-245d-4da1-a583-29b2730e3ed6"
      },
      "source": [
        "DT_results.head()"
      ],
      "execution_count": 88,
      "outputs": [
        {
          "output_type": "execute_result",
          "data": {
            "text/html": [
              "<div>\n",
              "<style scoped>\n",
              "    .dataframe tbody tr th:only-of-type {\n",
              "        vertical-align: middle;\n",
              "    }\n",
              "\n",
              "    .dataframe tbody tr th {\n",
              "        vertical-align: top;\n",
              "    }\n",
              "\n",
              "    .dataframe thead th {\n",
              "        text-align: right;\n",
              "    }\n",
              "</style>\n",
              "<table border=\"1\" class=\"dataframe\">\n",
              "  <thead>\n",
              "    <tr style=\"text-align: right;\">\n",
              "      <th></th>\n",
              "      <th>valor_predito_arvore</th>\n",
              "      <th>valor_observado</th>\n",
              "    </tr>\n",
              "  </thead>\n",
              "  <tbody>\n",
              "    <tr>\n",
              "      <th>0</th>\n",
              "      <td>4.52</td>\n",
              "      <td>4.67</td>\n",
              "    </tr>\n",
              "    <tr>\n",
              "      <th>1</th>\n",
              "      <td>4.27</td>\n",
              "      <td>3.82</td>\n",
              "    </tr>\n",
              "    <tr>\n",
              "      <th>2</th>\n",
              "      <td>2.32</td>\n",
              "      <td>2.53</td>\n",
              "    </tr>\n",
              "    <tr>\n",
              "      <th>3</th>\n",
              "      <td>4.65</td>\n",
              "      <td>4.77</td>\n",
              "    </tr>\n",
              "    <tr>\n",
              "      <th>4</th>\n",
              "      <td>2.64</td>\n",
              "      <td>2.33</td>\n",
              "    </tr>\n",
              "  </tbody>\n",
              "</table>\n",
              "</div>"
            ],
            "text/plain": [
              "   valor_predito_arvore  valor_observado\n",
              "0                  4.52             4.67\n",
              "1                  4.27             3.82\n",
              "2                  2.32             2.53\n",
              "3                  4.65             4.77\n",
              "4                  2.64             2.33"
            ]
          },
          "metadata": {
            "tags": []
          },
          "execution_count": 88
        }
      ]
    },
    {
      "cell_type": "code",
      "metadata": {
        "colab": {
          "base_uri": "https://localhost:8080/",
          "height": 383
        },
        "id": "JWOa942hGJl7",
        "outputId": "ace09755-8804-4122-d0df-45600386834f"
      },
      "source": [
        "#Gráfico de Valores Preditos vs Valores Observados\n",
        "%matplotlib inline\n",
        "sns.lmplot(x=\"valor_predito_arvore\", y=\"valor_observado\", palette=\"Pastel1\", data=DT_results);"
      ],
      "execution_count": 90,
      "outputs": [
        {
          "output_type": "display_data",
          "data": {
            "image/png": "[encoded data removed]",
            "text/plain": [
              "<Figure size 360x360 with 1 Axes>"
            ]
          },
          "metadata": {
            "tags": [],
            "needs_background": "light"
          }
        }
      ]
    },
    {
      "cell_type": "markdown",
      "metadata": {
        "id": "7Cy7A7FO09Px"
      },
      "source": [
        "## Random forest"
      ]
    },
    {
      "cell_type": "code",
      "metadata": {
        "id": "EgYBIaR-1AKn",
        "colab": {
          "base_uri": "https://localhost:8080/"
        },
        "outputId": "ebdb7210-4384-4495-dbeb-e17702b2f111"
      },
      "source": [
        "from sklearn.ensemble import RandomForestRegressor"
      ],
      "execution_count": 91,
      "outputs": [
        {
          "output_type": "stream",
          "text": [
            "/usr/lib/python3.7/importlib/_bootstrap.py:219: RuntimeWarning: numpy.ufunc size changed, may indicate binary incompatibility. Expected 192 from C header, got 216 from PyObject\n",
            "  return f(*args, **kwds)\n"
          ],
          "name": "stderr"
        }
      ]
    },
    {
      "cell_type": "code",
      "metadata": {
        "id": "Bl_UWWaI1KCD"
      },
      "source": [
        "rf_regressor = RandomForestRegressor()"
      ],
      "execution_count": 92,
      "outputs": []
    },
    {
      "cell_type": "code",
      "metadata": {
        "id": "T73u5c4Ve6j-",
        "colab": {
          "base_uri": "https://localhost:8080/",
          "height": 191
        },
        "outputId": "3eca912c-2354-451b-8b96-274fdcbf9094"
      },
      "source": [
        "data.head()"
      ],
      "execution_count": 93,
      "outputs": [
        {
          "output_type": "execute_result",
          "data": {
            "text/html": [
              "<div>\n",
              "<style scoped>\n",
              "    .dataframe tbody tr th:only-of-type {\n",
              "        vertical-align: middle;\n",
              "    }\n",
              "\n",
              "    .dataframe tbody tr th {\n",
              "        vertical-align: top;\n",
              "    }\n",
              "\n",
              "    .dataframe thead th {\n",
              "        text-align: right;\n",
              "    }\n",
              "</style>\n",
              "<table border=\"1\" class=\"dataframe\">\n",
              "  <thead>\n",
              "    <tr style=\"text-align: right;\">\n",
              "      <th></th>\n",
              "      <th>DOY</th>\n",
              "      <th>Rad</th>\n",
              "      <th>Vmed</th>\n",
              "      <th>Tmed</th>\n",
              "      <th>Urmed</th>\n",
              "      <th>Eto</th>\n",
              "    </tr>\n",
              "  </thead>\n",
              "  <tbody>\n",
              "    <tr>\n",
              "      <th>0</th>\n",
              "      <td>1</td>\n",
              "      <td>22.6</td>\n",
              "      <td>0.6</td>\n",
              "      <td>21.3</td>\n",
              "      <td>63.2</td>\n",
              "      <td>5.40</td>\n",
              "    </tr>\n",
              "    <tr>\n",
              "      <th>1</th>\n",
              "      <td>2</td>\n",
              "      <td>17.9</td>\n",
              "      <td>0.5</td>\n",
              "      <td>22.2</td>\n",
              "      <td>68.8</td>\n",
              "      <td>5.20</td>\n",
              "    </tr>\n",
              "    <tr>\n",
              "      <th>2</th>\n",
              "      <td>3</td>\n",
              "      <td>19.2</td>\n",
              "      <td>1.0</td>\n",
              "      <td>23.3</td>\n",
              "      <td>72.4</td>\n",
              "      <td>3.68</td>\n",
              "    </tr>\n",
              "    <tr>\n",
              "      <th>3</th>\n",
              "      <td>4</td>\n",
              "      <td>13.2</td>\n",
              "      <td>1.2</td>\n",
              "      <td>21.6</td>\n",
              "      <td>80.6</td>\n",
              "      <td>2.64</td>\n",
              "    </tr>\n",
              "    <tr>\n",
              "      <th>4</th>\n",
              "      <td>5</td>\n",
              "      <td>18.3</td>\n",
              "      <td>0.8</td>\n",
              "      <td>22.0</td>\n",
              "      <td>77.4</td>\n",
              "      <td>3.97</td>\n",
              "    </tr>\n",
              "  </tbody>\n",
              "</table>\n",
              "</div>"
            ],
            "text/plain": [
              "   DOY   Rad  Vmed  Tmed  Urmed   Eto\n",
              "0    1  22.6   0.6  21.3   63.2  5.40\n",
              "1    2  17.9   0.5  22.2   68.8  5.20\n",
              "2    3  19.2   1.0  23.3   72.4  3.68\n",
              "3    4  13.2   1.2  21.6   80.6  2.64\n",
              "4    5  18.3   0.8  22.0   77.4  3.97"
            ]
          },
          "metadata": {
            "tags": []
          },
          "execution_count": 93
        }
      ]
    },
    {
      "cell_type": "code",
      "metadata": {
        "id": "D2KWz1bAezmA"
      },
      "source": [
        "X = data.drop(['Eto'], axis=1)"
      ],
      "execution_count": 94,
      "outputs": []
    },
    {
      "cell_type": "code",
      "metadata": {
        "id": "DPfrF2aHfLGf"
      },
      "source": [
        "y = data['Eto']"
      ],
      "execution_count": 96,
      "outputs": []
    },
    {
      "cell_type": "code",
      "metadata": {
        "id": "vT5gRqGqhCij",
        "colab": {
          "base_uri": "https://localhost:8080/",
          "height": 191
        },
        "outputId": "235ec97a-f91a-44d4-eb55-ef0d2624da39"
      },
      "source": [
        "X.head()"
      ],
      "execution_count": 97,
      "outputs": [
        {
          "output_type": "execute_result",
          "data": {
            "text/html": [
              "<div>\n",
              "<style scoped>\n",
              "    .dataframe tbody tr th:only-of-type {\n",
              "        vertical-align: middle;\n",
              "    }\n",
              "\n",
              "    .dataframe tbody tr th {\n",
              "        vertical-align: top;\n",
              "    }\n",
              "\n",
              "    .dataframe thead th {\n",
              "        text-align: right;\n",
              "    }\n",
              "</style>\n",
              "<table border=\"1\" class=\"dataframe\">\n",
              "  <thead>\n",
              "    <tr style=\"text-align: right;\">\n",
              "      <th></th>\n",
              "      <th>DOY</th>\n",
              "      <th>Rad</th>\n",
              "      <th>Vmed</th>\n",
              "      <th>Tmed</th>\n",
              "      <th>Urmed</th>\n",
              "    </tr>\n",
              "  </thead>\n",
              "  <tbody>\n",
              "    <tr>\n",
              "      <th>0</th>\n",
              "      <td>1</td>\n",
              "      <td>22.6</td>\n",
              "      <td>0.6</td>\n",
              "      <td>21.3</td>\n",
              "      <td>63.2</td>\n",
              "    </tr>\n",
              "    <tr>\n",
              "      <th>1</th>\n",
              "      <td>2</td>\n",
              "      <td>17.9</td>\n",
              "      <td>0.5</td>\n",
              "      <td>22.2</td>\n",
              "      <td>68.8</td>\n",
              "    </tr>\n",
              "    <tr>\n",
              "      <th>2</th>\n",
              "      <td>3</td>\n",
              "      <td>19.2</td>\n",
              "      <td>1.0</td>\n",
              "      <td>23.3</td>\n",
              "      <td>72.4</td>\n",
              "    </tr>\n",
              "    <tr>\n",
              "      <th>3</th>\n",
              "      <td>4</td>\n",
              "      <td>13.2</td>\n",
              "      <td>1.2</td>\n",
              "      <td>21.6</td>\n",
              "      <td>80.6</td>\n",
              "    </tr>\n",
              "    <tr>\n",
              "      <th>4</th>\n",
              "      <td>5</td>\n",
              "      <td>18.3</td>\n",
              "      <td>0.8</td>\n",
              "      <td>22.0</td>\n",
              "      <td>77.4</td>\n",
              "    </tr>\n",
              "  </tbody>\n",
              "</table>\n",
              "</div>"
            ],
            "text/plain": [
              "   DOY   Rad  Vmed  Tmed  Urmed\n",
              "0    1  22.6   0.6  21.3   63.2\n",
              "1    2  17.9   0.5  22.2   68.8\n",
              "2    3  19.2   1.0  23.3   72.4\n",
              "3    4  13.2   1.2  21.6   80.6\n",
              "4    5  18.3   0.8  22.0   77.4"
            ]
          },
          "metadata": {
            "tags": []
          },
          "execution_count": 97
        }
      ]
    },
    {
      "cell_type": "code",
      "metadata": {
        "id": "0ZxlGGQifE8g"
      },
      "source": [
        "X_train, X_test, y_train, y_test = train_test_split(X, y, test_size = 0.3, random_state=5)"
      ],
      "execution_count": 98,
      "outputs": []
    },
    {
      "cell_type": "code",
      "metadata": {
        "id": "9hOoIIyyfTCU",
        "colab": {
          "base_uri": "https://localhost:8080/"
        },
        "outputId": "79a03814-9518-4bf9-d9eb-609050466096"
      },
      "source": [
        "X_train.shape, y_train.shape"
      ],
      "execution_count": 99,
      "outputs": [
        {
          "output_type": "execute_result",
          "data": {
            "text/plain": [
              "((255, 5), (255,))"
            ]
          },
          "metadata": {
            "tags": []
          },
          "execution_count": 99
        }
      ]
    },
    {
      "cell_type": "code",
      "metadata": {
        "id": "PO51HY1tfXUr",
        "colab": {
          "base_uri": "https://localhost:8080/"
        },
        "outputId": "760ab552-944e-48b0-f37e-56ef6158565d"
      },
      "source": [
        "X_test.shape, y_test.shape "
      ],
      "execution_count": 100,
      "outputs": [
        {
          "output_type": "execute_result",
          "data": {
            "text/plain": [
              "((110, 5), (110,))"
            ]
          },
          "metadata": {
            "tags": []
          },
          "execution_count": 100
        }
      ]
    },
    {
      "cell_type": "code",
      "metadata": {
        "id": "6zO7mmOQ1LFW"
      },
      "source": [
        "ModelRF=rf_regressor.fit(X_train, y_train)"
      ],
      "execution_count": 101,
      "outputs": []
    },
    {
      "cell_type": "code",
      "metadata": {
        "id": "rFRiSZ291Od6"
      },
      "source": [
        "y_pred = ModelRF.predict(X_test)"
      ],
      "execution_count": 102,
      "outputs": []
    },
    {
      "cell_type": "code",
      "metadata": {
        "id": "uZPb1wJa1hoM"
      },
      "source": [
        "rmse = (np.sqrt(mean_squared_error(y_test, y_pred))) #aplica o RMSE no conjunto de teste"
      ],
      "execution_count": 103,
      "outputs": []
    },
    {
      "cell_type": "code",
      "metadata": {
        "id": "14EW9Vgw1lr5",
        "colab": {
          "base_uri": "https://localhost:8080/"
        },
        "outputId": "6b2c6706-308e-48eb-c9e7-e7b0d9b5a8c6"
      },
      "source": [
        "print('\\nRMSE é: {} '.format(rmse)) #Mostra o valor do RMSE"
      ],
      "execution_count": 104,
      "outputs": [
        {
          "output_type": "stream",
          "text": [
            "\n",
            "RMSE é: 0.2838557050205741 \n"
          ],
          "name": "stdout"
        }
      ]
    },
    {
      "cell_type": "code",
      "metadata": {
        "id": "Uisvp0VV1r0J"
      },
      "source": [
        "mae = (mean_absolute_error(y_test, y_pred)) #aplica o MAE no conjunto de teste"
      ],
      "execution_count": 105,
      "outputs": []
    },
    {
      "cell_type": "code",
      "metadata": {
        "id": "uYpUHfBI1vpx",
        "colab": {
          "base_uri": "https://localhost:8080/"
        },
        "outputId": "81cf41b7-98df-47ac-d24b-97d529b37fe5"
      },
      "source": [
        "print('\\nMAE é: {} '.format(mae)) #Mostra o valor do MAE"
      ],
      "execution_count": 106,
      "outputs": [
        {
          "output_type": "stream",
          "text": [
            "\n",
            "MAE é: 0.2223799999999999 \n"
          ],
          "name": "stdout"
        }
      ]
    },
    {
      "cell_type": "code",
      "metadata": {
        "id": "T6bmHktsftlB"
      },
      "source": [
        "mse = (mean_squared_error(y_test, y_pred))"
      ],
      "execution_count": 107,
      "outputs": []
    },
    {
      "cell_type": "code",
      "metadata": {
        "id": "YQmfxzVbfxVM",
        "colab": {
          "base_uri": "https://localhost:8080/"
        },
        "outputId": "cba2726d-cb0d-46f8-ea45-24d50258629c"
      },
      "source": [
        "print('\\nMSE é: {} '.format(mse))"
      ],
      "execution_count": 108,
      "outputs": [
        {
          "output_type": "stream",
          "text": [
            "\n",
            "MSE é: 0.08057406127272718 \n"
          ],
          "name": "stdout"
        }
      ]
    },
    {
      "cell_type": "code",
      "metadata": {
        "id": "V_DKeq58f1Nl",
        "colab": {
          "base_uri": "https://localhost:8080/"
        },
        "outputId": "bf48a0e9-72ff-472b-c72b-000bb48192f6"
      },
      "source": [
        "explained_variance_score(y_test, y_pred)"
      ],
      "execution_count": 109,
      "outputs": [
        {
          "output_type": "execute_result",
          "data": {
            "text/plain": [
              "0.8781828555147925"
            ]
          },
          "metadata": {
            "tags": []
          },
          "execution_count": 109
        }
      ]
    },
    {
      "cell_type": "code",
      "metadata": {
        "id": "K58lzVO_1S49"
      },
      "source": [
        "RF_results=pd.DataFrame()"
      ],
      "execution_count": 110,
      "outputs": []
    },
    {
      "cell_type": "code",
      "metadata": {
        "id": "zA1K1kYS1YEc"
      },
      "source": [
        "RF_results['valor_predito_random_forest'] = y_pred"
      ],
      "execution_count": 111,
      "outputs": []
    },
    {
      "cell_type": "code",
      "metadata": {
        "id": "q4gbFX5E1bgd"
      },
      "source": [
        "RF_results['valor_observado'] = y_test.values"
      ],
      "execution_count": 112,
      "outputs": []
    },
    {
      "cell_type": "code",
      "metadata": {
        "id": "NcMKkmNt11_x"
      },
      "source": [
        "RF_results.to_csv('/content/RFpred.csv',header=True) #Exporta os resultados para .CSV"
      ],
      "execution_count": 113,
      "outputs": []
    },
    {
      "cell_type": "code",
      "metadata": {
        "colab": {
          "base_uri": "https://localhost:8080/",
          "height": 191
        },
        "id": "a0GiiMW5G8v0",
        "outputId": "6243e37f-c9a5-47e5-bd94-98c4a9cc1e1d"
      },
      "source": [
        "RF_results.head()"
      ],
      "execution_count": 114,
      "outputs": [
        {
          "output_type": "execute_result",
          "data": {
            "text/html": [
              "<div>\n",
              "<style scoped>\n",
              "    .dataframe tbody tr th:only-of-type {\n",
              "        vertical-align: middle;\n",
              "    }\n",
              "\n",
              "    .dataframe tbody tr th {\n",
              "        vertical-align: top;\n",
              "    }\n",
              "\n",
              "    .dataframe thead th {\n",
              "        text-align: right;\n",
              "    }\n",
              "</style>\n",
              "<table border=\"1\" class=\"dataframe\">\n",
              "  <thead>\n",
              "    <tr style=\"text-align: right;\">\n",
              "      <th></th>\n",
              "      <th>valor_predito_random_forest</th>\n",
              "      <th>valor_observado</th>\n",
              "    </tr>\n",
              "  </thead>\n",
              "  <tbody>\n",
              "    <tr>\n",
              "      <th>0</th>\n",
              "      <td>4.4968</td>\n",
              "      <td>4.67</td>\n",
              "    </tr>\n",
              "    <tr>\n",
              "      <th>1</th>\n",
              "      <td>3.8799</td>\n",
              "      <td>3.82</td>\n",
              "    </tr>\n",
              "    <tr>\n",
              "      <th>2</th>\n",
              "      <td>2.5170</td>\n",
              "      <td>2.53</td>\n",
              "    </tr>\n",
              "    <tr>\n",
              "      <th>3</th>\n",
              "      <td>4.6291</td>\n",
              "      <td>4.77</td>\n",
              "    </tr>\n",
              "    <tr>\n",
              "      <th>4</th>\n",
              "      <td>2.4688</td>\n",
              "      <td>2.33</td>\n",
              "    </tr>\n",
              "  </tbody>\n",
              "</table>\n",
              "</div>"
            ],
            "text/plain": [
              "   valor_predito_random_forest  valor_observado\n",
              "0                       4.4968             4.67\n",
              "1                       3.8799             3.82\n",
              "2                       2.5170             2.53\n",
              "3                       4.6291             4.77\n",
              "4                       2.4688             2.33"
            ]
          },
          "metadata": {
            "tags": []
          },
          "execution_count": 114
        }
      ]
    },
    {
      "cell_type": "code",
      "metadata": {
        "colab": {
          "base_uri": "https://localhost:8080/",
          "height": 383
        },
        "id": "OAxfEMqUHBrt",
        "outputId": "bc9e9d66-244f-492a-8767-41fc56c88397"
      },
      "source": [
        "#Gráfico de Valores Preditos vs Valores Observados\n",
        "%matplotlib inline\n",
        "sns.lmplot(x=\"valor_predito_random_forest\", y=\"valor_observado\", palette=\"Pastel1\", data=RF_results);"
      ],
      "execution_count": 115,
      "outputs": [
        {
          "output_type": "display_data",
          "data": {
            "image/png": "[encoded data removed]",
            "text/plain": [
              "<Figure size 360x360 with 1 Axes>"
            ]
          },
          "metadata": {
            "tags": [],
            "needs_background": "light"
          }
        }
      ]
    },
    {
      "cell_type": "code",
      "metadata": {
        "id": "eGABbtqSHKOs"
      },
      "source": [
        ""
      ],
      "execution_count": null,
      "outputs": []
    }
  ]
}