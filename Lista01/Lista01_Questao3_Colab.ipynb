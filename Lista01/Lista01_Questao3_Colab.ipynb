{
  "nbformat": 4,
  "nbformat_minor": 0,
  "metadata": {
    "colab": {
      "name": "Lista01-Questao3-Colab.ipynb",
      "provenance": [],
      "collapsed_sections": [
        "MAO1aY6GcajB"
      ]
    },
    "kernelspec": {
      "display_name": "Python 3",
      "language": "python",
      "name": "python3"
    },
    "language_info": {
      "codemirror_mode": {
        "name": "ipython",
        "version": 3
      },
      "file_extension": ".py",
      "mimetype": "text/x-python",
      "name": "python",
      "nbconvert_exporter": "python",
      "pygments_lexer": "ipython3",
      "version": "3.6.5"
    }
  },
  "cells": [
    {
      "cell_type": "markdown",
      "metadata": {
        "id": "MAO1aY6GcajB"
      },
      "source": [
        "## <font color=green>Bibliotecas Utilizadas\n",
        "\n",
        "https://pandas.pydata.org/\n",
        "\n",
        "https://www.numpy.org/\n",
        "\n",
        "https://seaborn.pydata.org/"
      ]
    },
    {
      "cell_type": "code",
      "metadata": {
        "id": "8QgOpE-wjQKl"
      },
      "source": [
        "import pandas as pd\n",
        "import numpy as np\n",
        "import seaborn as sns"
      ],
      "execution_count": null,
      "outputs": []
    },
    {
      "cell_type": "markdown",
      "metadata": {
        "id": "TDjqYYNojQKh"
      },
      "source": [
        "## <font color=green>Dataset</font>\n",
        "***"
      ]
    },
    {
      "cell_type": "markdown",
      "metadata": {
        "id": "iN1gIbaKjQKh"
      },
      "source": [
        "### Dados da Previsão/Série Histórica da Temperatura Máxima de Manaus - Junho e Julho 2020\n",
        "\n",
        "Dados da previsão da temperatura máxima fornecidos pelo Ministério da Defesa e da série histórica do INMET da estação meterológica de Manaus referente ao meses de junho e julho 2020.\n",
        "\n",
        "Obs: Foi feita a média diária da tempetura máxima do Dataset do INMET para melhor análise dos dados."
      ]
    },
    {
      "cell_type": "markdown",
      "metadata": {
        "id": "U6V7br1RjQKi"
      },
      "source": [
        "### Fonte dos Dados\n",
        "\n",
        "INMET - https://portal.inmet.gov.br/dadoshistoricos\n",
        "\n",
        "Ministério da Defesa - https://dados.gov.br/dataset/previsao-climatica-do-censipam\n",
        "\n",
        "\n",
        " \n"
      ]
    },
    {
      "cell_type": "markdown",
      "metadata": {
        "id": "8Rw70V6ojQKk"
      },
      "source": [
        "### Lendo o dataset "
      ]
    },
    {
      "cell_type": "code",
      "metadata": {
        "id": "ufRZ7TLwjQKo"
      },
      "source": [
        "dados = pd.read_csv('tempprevManaus-junjul20.csv')"
      ],
      "execution_count": null,
      "outputs": []
    },
    {
      "cell_type": "markdown",
      "metadata": {
        "id": "yYl8HR5J3ur4"
      },
      "source": [
        "Tamanho do Dataset"
      ]
    },
    {
      "cell_type": "code",
      "metadata": {
        "id": "GsC_WhLFjQKq",
        "scrolled": true,
        "colab": {
          "base_uri": "https://localhost:8080/"
        },
        "outputId": "9f634dcf-adf2-41c0-8128-91ed1b1649f1"
      },
      "source": [
        "dados.shape"
      ],
      "execution_count": null,
      "outputs": [
        {
          "output_type": "execute_result",
          "data": {
            "text/plain": [
              "(58, 3)"
            ]
          },
          "metadata": {
            "tags": []
          },
          "execution_count": 27
        }
      ]
    },
    {
      "cell_type": "markdown",
      "metadata": {
        "id": "YQn7W1IX4FEX"
      },
      "source": [
        "Cinco primeiras linhas"
      ]
    },
    {
      "cell_type": "code",
      "metadata": {
        "colab": {
          "base_uri": "https://localhost:8080/",
          "height": 202
        },
        "id": "KbTYXhbx3rnJ",
        "outputId": "53aafebf-f540-488e-bcaf-0d9950ab6554"
      },
      "source": [
        "dados.head()"
      ],
      "execution_count": null,
      "outputs": [
        {
          "output_type": "execute_result",
          "data": {
            "text/html": [
              "<div>\n",
              "<style scoped>\n",
              "    .dataframe tbody tr th:only-of-type {\n",
              "        vertical-align: middle;\n",
              "    }\n",
              "\n",
              "    .dataframe tbody tr th {\n",
              "        vertical-align: top;\n",
              "    }\n",
              "\n",
              "    .dataframe thead th {\n",
              "        text-align: right;\n",
              "    }\n",
              "</style>\n",
              "<table border=\"1\" class=\"dataframe\">\n",
              "  <thead>\n",
              "    <tr style=\"text-align: right;\">\n",
              "      <th></th>\n",
              "      <th>Data</th>\n",
              "      <th>TemMaxPrevisao</th>\n",
              "      <th>TemMaxEstacao</th>\n",
              "    </tr>\n",
              "  </thead>\n",
              "  <tbody>\n",
              "    <tr>\n",
              "      <th>0</th>\n",
              "      <td>01/06/2020</td>\n",
              "      <td>30</td>\n",
              "      <td>26</td>\n",
              "    </tr>\n",
              "    <tr>\n",
              "      <th>1</th>\n",
              "      <td>02/06/2020</td>\n",
              "      <td>30</td>\n",
              "      <td>27</td>\n",
              "    </tr>\n",
              "    <tr>\n",
              "      <th>2</th>\n",
              "      <td>03/06/2020</td>\n",
              "      <td>31</td>\n",
              "      <td>28</td>\n",
              "    </tr>\n",
              "    <tr>\n",
              "      <th>3</th>\n",
              "      <td>04/06/2020</td>\n",
              "      <td>31</td>\n",
              "      <td>28</td>\n",
              "    </tr>\n",
              "    <tr>\n",
              "      <th>4</th>\n",
              "      <td>05/06/2020</td>\n",
              "      <td>32</td>\n",
              "      <td>29</td>\n",
              "    </tr>\n",
              "  </tbody>\n",
              "</table>\n",
              "</div>"
            ],
            "text/plain": [
              "         Data  TemMaxPrevisao  TemMaxEstacao\n",
              "0  01/06/2020              30             26\n",
              "1  02/06/2020              30             27\n",
              "2  03/06/2020              31             28\n",
              "3  04/06/2020              31             28\n",
              "4  05/06/2020              32             29"
            ]
          },
          "metadata": {
            "tags": []
          },
          "execution_count": 28
        }
      ]
    },
    {
      "cell_type": "markdown",
      "metadata": {
        "id": "Im6WCq9qhh1y"
      },
      "source": [
        "## <font color=green>Métricas</font>\n",
        "***"
      ]
    },
    {
      "cell_type": "markdown",
      "metadata": {
        "id": "d61oeavFDUVk"
      },
      "source": [
        "### Média - Temperatura Média e Previsão \n",
        "\n",
        "$$\\ m = \\frac 1n\\sum_{i=1}^{n}X^t$$"
      ]
    },
    {
      "cell_type": "code",
      "metadata": {
        "colab": {
          "base_uri": "https://localhost:8080/"
        },
        "id": "sjk2kJywsm6j",
        "outputId": "7d0418bd-eaf6-4ec8-def2-edce6570c63a"
      },
      "source": [
        "dados.mean()"
      ],
      "execution_count": null,
      "outputs": [
        {
          "output_type": "execute_result",
          "data": {
            "text/plain": [
              "TemMaxPrevisao    31.603448\n",
              "TemMaxEstacao     28.672414\n",
              "dtype: float64"
            ]
          },
          "metadata": {
            "tags": []
          },
          "execution_count": 30
        }
      ]
    },
    {
      "cell_type": "markdown",
      "metadata": {
        "id": "qloN_T4kkCnf"
      },
      "source": [
        "# Variância\n",
        "\n",
        "### $$S^2 = \\frac 1{n}\\sum_{t=1}^{n}(X^t-m)^2$$"
      ]
    },
    {
      "cell_type": "code",
      "metadata": {
        "id": "IKkgdVYgkfLY",
        "colab": {
          "base_uri": "https://localhost:8080/"
        },
        "outputId": "1cc67fc1-4fb2-4c26-9ee5-5b85729f4418"
      },
      "source": [
        "varianciaTemMaxPrevisao = dados['TemMaxPrevisao'].var()\n",
        "varianciaTemMaxPrevisao"
      ],
      "execution_count": null,
      "outputs": [
        {
          "output_type": "execute_result",
          "data": {
            "text/plain": [
              "1.436479128856623"
            ]
          },
          "metadata": {
            "tags": []
          },
          "execution_count": 40
        }
      ]
    },
    {
      "cell_type": "code",
      "metadata": {
        "colab": {
          "base_uri": "https://localhost:8080/"
        },
        "id": "OLoaPZ0Fx1Wx",
        "outputId": "c0c40902-408e-4061-bc33-b5210d96d5c0"
      },
      "source": [
        "varianciaTemMaxEstacao = dados['TemMaxEstacao'].var()\n",
        "varianciaTemMaxEstacao"
      ],
      "execution_count": null,
      "outputs": [
        {
          "output_type": "execute_result",
          "data": {
            "text/plain": [
              "1.2767695099818503"
            ]
          },
          "metadata": {
            "tags": []
          },
          "execution_count": 42
        }
      ]
    },
    {
      "cell_type": "markdown",
      "metadata": {
        "id": "UWo8m3bVzCxJ"
      },
      "source": [
        "### Desvio padrão\n",
        "\n",
        "# $$\\ s = \\sqrt{\\frac 1n\\sum_{t=1}^{n}(X^t-\\ m)^2}$$ "
      ]
    },
    {
      "cell_type": "code",
      "metadata": {
        "colab": {
          "base_uri": "https://localhost:8080/"
        },
        "id": "4jjpLNPh2gP6",
        "outputId": "e3d1215a-0803-46ca-c256-68eb092c9895"
      },
      "source": [
        "np.sqrt(varianciaTemMaxPrevisao)"
      ],
      "execution_count": null,
      "outputs": [
        {
          "output_type": "execute_result",
          "data": {
            "text/plain": [
              "1.1985320725189723"
            ]
          },
          "metadata": {
            "tags": []
          },
          "execution_count": 57
        }
      ]
    },
    {
      "cell_type": "code",
      "metadata": {
        "colab": {
          "base_uri": "https://localhost:8080/"
        },
        "id": "l50XR5wg4tfd",
        "outputId": "45293824-1c23-49c4-ba21-4e5c611f7cb1"
      },
      "source": [
        "np.sqrt(varianciaTemMaxEstacao)"
      ],
      "execution_count": null,
      "outputs": [
        {
          "output_type": "execute_result",
          "data": {
            "text/plain": [
              "1.1299422595787143"
            ]
          },
          "metadata": {
            "tags": []
          },
          "execution_count": 56
        }
      ]
    },
    {
      "cell_type": "markdown",
      "metadata": {
        "id": "z66qdhEPcakB"
      },
      "source": [
        "### Covariância\n",
        "\n",
        "# $$\\ s_{ij} = \\frac 1N\\sum_{t=1}^{N}(X_i^t- m_i)(X_i^j- m_j)$$"
      ]
    },
    {
      "cell_type": "code",
      "metadata": {
        "id": "hU6Ca7k3cakE",
        "colab": {
          "base_uri": "https://localhost:8080/",
          "height": 110
        },
        "outputId": "a48e7c37-c01c-42d3-c7a0-1e975077b6fc"
      },
      "source": [
        "sij = dados[[ 'TemMaxEstacao', 'TemMaxPrevisao']].cov()\n",
        "sij"
      ],
      "execution_count": null,
      "outputs": [
        {
          "output_type": "execute_result",
          "data": {
            "text/html": [
              "<div>\n",
              "<style scoped>\n",
              "    .dataframe tbody tr th:only-of-type {\n",
              "        vertical-align: middle;\n",
              "    }\n",
              "\n",
              "    .dataframe tbody tr th {\n",
              "        vertical-align: top;\n",
              "    }\n",
              "\n",
              "    .dataframe thead th {\n",
              "        text-align: right;\n",
              "    }\n",
              "</style>\n",
              "<table border=\"1\" class=\"dataframe\">\n",
              "  <thead>\n",
              "    <tr style=\"text-align: right;\">\n",
              "      <th></th>\n",
              "      <th>TemMaxEstacao</th>\n",
              "      <th>TemMaxPrevisao</th>\n",
              "    </tr>\n",
              "  </thead>\n",
              "  <tbody>\n",
              "    <tr>\n",
              "      <th>TemMaxEstacao</th>\n",
              "      <td>1.276770</td>\n",
              "      <td>0.955535</td>\n",
              "    </tr>\n",
              "    <tr>\n",
              "      <th>TemMaxPrevisao</th>\n",
              "      <td>0.955535</td>\n",
              "      <td>1.436479</td>\n",
              "    </tr>\n",
              "  </tbody>\n",
              "</table>\n",
              "</div>"
            ],
            "text/plain": [
              "                TemMaxEstacao  TemMaxPrevisao\n",
              "TemMaxEstacao        1.276770        0.955535\n",
              "TemMaxPrevisao       0.955535        1.436479"
            ]
          },
          "metadata": {
            "tags": []
          },
          "execution_count": 63
        }
      ]
    },
    {
      "cell_type": "markdown",
      "metadata": {
        "id": "OgecrWGdcakf"
      },
      "source": [
        "\n",
        "### Coeficiente de correlação\n",
        "# $$r_{ij} = \\frac{s_{ij}}{s_{i}s_{j}}$$\n",
        "\n",
        "Onde\n",
        "\n",
        "\n",
        "\n",
        "$s_{i}$ e $s_{j}$ = desvios padrão amostrais de i e j, respectivamente"
      ]
    },
    {
      "cell_type": "markdown",
      "metadata": {
        "id": "jPk2i26acakg"
      },
      "source": [
        "### Obtendo $s_{ij}$"
      ]
    },
    {
      "cell_type": "code",
      "metadata": {
        "colab": {
          "base_uri": "https://localhost:8080/"
        },
        "id": "YkBnlmK825vy",
        "outputId": "df39f21d-e0df-4243-cf9f-47da39585d88"
      },
      "source": [
        "sij= sij.TemMaxEstacao.loc['TemMaxPrevisao']\n",
        "sij"
      ],
      "execution_count": null,
      "outputs": [
        {
          "output_type": "execute_result",
          "data": {
            "text/plain": [
              "0.955535390199637"
            ]
          },
          "metadata": {
            "tags": []
          },
          "execution_count": 64
        }
      ]
    },
    {
      "cell_type": "markdown",
      "metadata": {
        "id": "sDybJtCMcakl"
      },
      "source": [
        "### Obtendo $s_i$ e $s_j$"
      ]
    },
    {
      "cell_type": "code",
      "metadata": {
        "id": "LTEEbMIzcakl",
        "colab": {
          "base_uri": "https://localhost:8080/"
        },
        "outputId": "96ea85d4-6a7c-4048-8bfc-903487ad6b2d"
      },
      "source": [
        "si = dados.TemMaxEstacao.std()\n",
        "si"
      ],
      "execution_count": null,
      "outputs": [
        {
          "output_type": "execute_result",
          "data": {
            "text/plain": [
              "1.1299422595787143"
            ]
          },
          "metadata": {
            "tags": []
          },
          "execution_count": 66
        }
      ]
    },
    {
      "cell_type": "code",
      "metadata": {
        "colab": {
          "base_uri": "https://localhost:8080/"
        },
        "id": "fFq8JK4wc8AN",
        "outputId": "78080d17-eeea-4129-822e-9eacd2620570"
      },
      "source": [
        "sj = dados.TemMaxPrevisao.std()\n",
        "sj"
      ],
      "execution_count": null,
      "outputs": [
        {
          "output_type": "execute_result",
          "data": {
            "text/plain": [
              "1.1985320725189723"
            ]
          },
          "metadata": {
            "tags": []
          },
          "execution_count": 67
        }
      ]
    },
    {
      "cell_type": "markdown",
      "metadata": {
        "id": "VVpQ5QcCcakm"
      },
      "source": [
        "### Obtendo o coeficiente de correlação $r_{iy}$"
      ]
    },
    {
      "cell_type": "code",
      "metadata": {
        "id": "TuPWxVgccakq",
        "colab": {
          "base_uri": "https://localhost:8080/",
          "height": 110
        },
        "outputId": "e690b0bc-6d57-4a40-fc01-7fdb0622c531"
      },
      "source": [
        "rij = sij / ( si * sj)\n",
        "rij"
      ],
      "execution_count": null,
      "outputs": [
        {
          "output_type": "execute_result",
          "data": {
            "text/html": [
              "<div>\n",
              "<style scoped>\n",
              "    .dataframe tbody tr th:only-of-type {\n",
              "        vertical-align: middle;\n",
              "    }\n",
              "\n",
              "    .dataframe tbody tr th {\n",
              "        vertical-align: top;\n",
              "    }\n",
              "\n",
              "    .dataframe thead th {\n",
              "        text-align: right;\n",
              "    }\n",
              "</style>\n",
              "<table border=\"1\" class=\"dataframe\">\n",
              "  <thead>\n",
              "    <tr style=\"text-align: right;\">\n",
              "      <th></th>\n",
              "      <th>TemMaxEstacao</th>\n",
              "      <th>TemMaxPrevisao</th>\n",
              "    </tr>\n",
              "  </thead>\n",
              "  <tbody>\n",
              "    <tr>\n",
              "      <th>TemMaxEstacao</th>\n",
              "      <td>0.942772</td>\n",
              "      <td>0.705571</td>\n",
              "    </tr>\n",
              "    <tr>\n",
              "      <th>TemMaxPrevisao</th>\n",
              "      <td>0.705571</td>\n",
              "      <td>1.060702</td>\n",
              "    </tr>\n",
              "  </tbody>\n",
              "</table>\n",
              "</div>"
            ],
            "text/plain": [
              "                TemMaxEstacao  TemMaxPrevisao\n",
              "TemMaxEstacao        0.942772        0.705571\n",
              "TemMaxPrevisao       0.705571        1.060702"
            ]
          },
          "metadata": {
            "tags": []
          },
          "execution_count": 68
        }
      ]
    },
    {
      "cell_type": "markdown",
      "metadata": {
        "id": "r3lkJEl4d2pX"
      },
      "source": [
        "### Matriz de correlação (Biblioteca Pandas)"
      ]
    },
    {
      "cell_type": "code",
      "metadata": {
        "colab": {
          "base_uri": "https://localhost:8080/",
          "height": 110
        },
        "id": "TEAUgBq_d6NC",
        "outputId": "7eab2ca3-4e8d-4e32-eb09-edaf42a6b397"
      },
      "source": [
        "dados[['TemMaxPrevisao', 'TemMaxEstacao']].corr()"
      ],
      "execution_count": null,
      "outputs": [
        {
          "output_type": "execute_result",
          "data": {
            "text/html": [
              "<div>\n",
              "<style scoped>\n",
              "    .dataframe tbody tr th:only-of-type {\n",
              "        vertical-align: middle;\n",
              "    }\n",
              "\n",
              "    .dataframe tbody tr th {\n",
              "        vertical-align: top;\n",
              "    }\n",
              "\n",
              "    .dataframe thead th {\n",
              "        text-align: right;\n",
              "    }\n",
              "</style>\n",
              "<table border=\"1\" class=\"dataframe\">\n",
              "  <thead>\n",
              "    <tr style=\"text-align: right;\">\n",
              "      <th></th>\n",
              "      <th>TemMaxPrevisao</th>\n",
              "      <th>TemMaxEstacao</th>\n",
              "    </tr>\n",
              "  </thead>\n",
              "  <tbody>\n",
              "    <tr>\n",
              "      <th>TemMaxPrevisao</th>\n",
              "      <td>1.000000</td>\n",
              "      <td>0.705571</td>\n",
              "    </tr>\n",
              "    <tr>\n",
              "      <th>TemMaxEstacao</th>\n",
              "      <td>0.705571</td>\n",
              "      <td>1.000000</td>\n",
              "    </tr>\n",
              "  </tbody>\n",
              "</table>\n",
              "</div>"
            ],
            "text/plain": [
              "                TemMaxPrevisao  TemMaxEstacao\n",
              "TemMaxPrevisao        1.000000       0.705571\n",
              "TemMaxEstacao         0.705571       1.000000"
            ]
          },
          "metadata": {
            "tags": []
          },
          "execution_count": 74
        }
      ]
    },
    {
      "cell_type": "code",
      "metadata": {
        "colab": {
          "base_uri": "https://localhost:8080/",
          "height": 460
        },
        "id": "OtOEkC8Nta1c",
        "outputId": "7f698396-d8a9-4b4f-8a7f-8dc9de0895e2"
      },
      "source": [
        "x = dados.TemMaxEstacao\n",
        "y = dados.TemMaxPrevisao\n",
        "\n",
        "ax = sns.scatterplot(x, y)\n",
        "ax.figure.set_size_inches(10, 6)\n",
        "ax.hlines(y = y.mean(), xmin = x.min(), xmax = x.max(), colors='black', linestyles='dashed')\n",
        "ax.vlines(x = x.mean(), ymin = y.min(), ymax = y.max(), colors='black', linestyles='dashed')"
      ],
      "execution_count": null,
      "outputs": [
        {
          "output_type": "stream",
          "text": [
            "/usr/local/lib/python3.6/dist-packages/seaborn/_decorators.py:43: FutureWarning: Pass the following variables as keyword args: x, y. From version 0.12, the only valid positional argument will be `data`, and passing other arguments without an explicit keyword will result in an error or misinterpretation.\n",
            "  FutureWarning\n"
          ],
          "name": "stderr"
        },
        {
          "output_type": "execute_result",
          "data": {
            "text/plain": [
              "<matplotlib.collections.LineCollection at 0x7ffb12e41320>"
            ]
          },
          "metadata": {
            "tags": []
          },
          "execution_count": 75
        },
        {
          "output_type": "display_data",
          "data": {
            "image/png": "[encoded data removed]",
            "text/plain": [
              "<Figure size 720x432 with 1 Axes>"
            ]
          },
          "metadata": {
            "tags": [],
            "needs_background": "light"
          }
        }
      ]
    }
  ]
}